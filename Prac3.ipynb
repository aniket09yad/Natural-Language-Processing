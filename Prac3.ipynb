{
 "cells": [
  {
   "cell_type": "code",
   "execution_count": 1,
   "id": "af283f9e",
   "metadata": {},
   "outputs": [],
   "source": [
    "#Practical 3\n",
    "#Write a program to implement stemming and lemmatization\n",
    "#Stemming "
   ]
  },
  {
   "cell_type": "code",
   "execution_count": 1,
   "id": "7ca55984",
   "metadata": {},
   "outputs": [],
   "source": [
    "from nltk.stem import PorterStemmer, LancasterStemmer"
   ]
  },
  {
   "cell_type": "code",
   "execution_count": 2,
   "id": "4c142511",
   "metadata": {},
   "outputs": [],
   "source": [
    "porter_stemmer = PorterStemmer()"
   ]
  },
  {
   "cell_type": "code",
   "execution_count": 7,
   "id": "5433b56b",
   "metadata": {},
   "outputs": [
    {
     "name": "stdout",
     "output_type": "stream",
     "text": [
      "observ\n"
     ]
    }
   ],
   "source": [
    "print(porter_stemmer.stem('Observing'))"
   ]
  },
  {
   "cell_type": "code",
   "execution_count": 9,
   "id": "e3ce3f45",
   "metadata": {},
   "outputs": [
    {
     "name": "stdout",
     "output_type": "stream",
     "text": [
      "observ\n"
     ]
    }
   ],
   "source": [
    "print(porter_stemmer.stem('observs'))"
   ]
  },
  {
   "cell_type": "code",
   "execution_count": 11,
   "id": "058dfe17",
   "metadata": {},
   "outputs": [
    {
     "name": "stdout",
     "output_type": "stream",
     "text": [
      "observ\n"
     ]
    }
   ],
   "source": [
    "print(porter_stemmer.stem('observe'))"
   ]
  },
  {
   "cell_type": "code",
   "execution_count": 13,
   "id": "0638e17d",
   "metadata": {},
   "outputs": [],
   "source": [
    "# Lemmatizer "
   ]
  },
  {
   "cell_type": "code",
   "execution_count": 15,
   "id": "e17f79c0",
   "metadata": {},
   "outputs": [
    {
     "name": "stderr",
     "output_type": "stream",
     "text": [
      "[nltk_data] Downloading package omw-1.4 to\n",
      "[nltk_data]     C:\\Users\\anike\\AppData\\Roaming\\nltk_data...\n",
      "[nltk_data]   Package omw-1.4 is already up-to-date!\n"
     ]
    },
    {
     "data": {
      "text/plain": [
       "True"
      ]
     },
     "execution_count": 15,
     "metadata": {},
     "output_type": "execute_result"
    }
   ],
   "source": [
    "import nltk\n",
    "nltk.download('omw-1.4')"
   ]
  },
  {
   "cell_type": "code",
   "execution_count": 17,
   "id": "07836431",
   "metadata": {},
   "outputs": [
    {
     "name": "stderr",
     "output_type": "stream",
     "text": [
      "[nltk_data] Downloading package wordnet to\n",
      "[nltk_data]     C:\\Users\\anike\\AppData\\Roaming\\nltk_data...\n",
      "[nltk_data]   Package wordnet is already up-to-date!\n"
     ]
    },
    {
     "name": "stdout",
     "output_type": "stream",
     "text": [
      "running\n",
      "run\n"
     ]
    }
   ],
   "source": [
    "from nltk.stem import WordNetLemmatizer\n",
    "nltk.download('wordnet')\n",
    "lemmatizer = WordNetLemmatizer()\n",
    "print(lemmatizer.lemmatize('running', pos - ))\n",
    "print(lemmatizer.lemmatize('runs'))"
   ]
  },
  {
   "cell_type": "code",
   "execution_count": null,
   "id": "8fd2a290",
   "metadata": {},
   "outputs": [],
   "source": []
  },
  {
   "cell_type": "code",
   "execution_count": 19,
   "id": "e676aa67",
   "metadata": {},
   "outputs": [
    {
     "name": "stdout",
     "output_type": "stream",
     "text": [
      "verb form count\n",
      "noun form counting\n",
      "adverb form counting\n",
      "adjective form -counting\n",
      "verb form run\n",
      "noun form running\n",
      "adverb form running\n",
      "adjective form -running\n",
      "verb form sleep\n",
      "noun form sleeping\n",
      "adverb form sleeping\n",
      "adjective form -sleeping\n"
     ]
    }
   ],
   "source": [
    "#lemmatize-returns verb, noun, adverb, adjective form\n",
    "\n",
    "def lemmatize(word):\n",
    "    lemmatizer= WordNetLemmatizer()\n",
    "    print(\"verb form \" + lemmatizer.lemmatize(word, pos=\"v\"))\n",
    "    print(\"noun form \" + lemmatizer.lemmatize(word, pos=\"n\"))\n",
    "    print(\"adverb form \" + lemmatizer.lemmatize(word, pos=\"r\"))\n",
    "    print(\"adjective form -\" + lemmatizer.lemmatize(word, pos=\"a\"))\n",
    "    \n",
    "lemmatize(\"counting\")\n",
    "lemmatize(\"running\")\n",
    "lemmatize(\"sleeping\")"
   ]
  },
  {
   "cell_type": "code",
   "execution_count": 19,
   "id": "4afa091a",
   "metadata": {},
   "outputs": [],
   "source": [
    "#the folllowing code snippet shows the comparsion between stemming and memmatizzation"
   ]
  },
  {
   "cell_type": "code",
   "execution_count": null,
   "id": "6c0a71d2",
   "metadata": {},
   "outputs": [],
   "source": []
  },
  {
   "cell_type": "code",
   "execution_count": 22,
   "id": "1a77acc6",
   "metadata": {},
   "outputs": [
    {
     "name": "stdout",
     "output_type": "stream",
     "text": [
      "dectiv\n",
      "dectiv\n",
      "dectiv\n"
     ]
    }
   ],
   "source": [
    "import nltk\n",
    "from nltk.stem import PorterStemmer\n",
    "from nltk.stem import WordNetLemmatizer\n",
    "\n",
    "stemmer = PorterStemmer()\n",
    "lemmatizer = WordNetLemmatizer()\n",
    "\n",
    "print(stemmer.stem(\"dectivating\"))\n",
    "print(stemmer.stem(\"dectivated\"))\n",
    "print(stemmer.stem(\"dectivates\"))\n",
    "\n",
    "\n"
   ]
  },
  {
   "cell_type": "code",
   "execution_count": 24,
   "id": "1fccd66f",
   "metadata": {},
   "outputs": [
    {
     "name": "stdout",
     "output_type": "stream",
     "text": [
      "dectivating\n",
      "dectivating\n",
      "dectivating\n"
     ]
    }
   ],
   "source": [
    "print(lemmatizer.lemmatize(\"dectivating\",pos=\"v\"))\n",
    "print(lemmatizer.lemmatize(\"dectivating\",pos=\"r\"))\n",
    "print(lemmatizer.lemmatize(\"dectivating\",pos=\"n\"))"
   ]
  },
  {
   "cell_type": "code",
   "execution_count": 26,
   "id": "89f54017",
   "metadata": {},
   "outputs": [
    {
     "name": "stdout",
     "output_type": "stream",
     "text": [
      "stone\n",
      "speak\n",
      "bedroom\n",
      "joke\n",
      "lisa\n",
      "purpl\n"
     ]
    }
   ],
   "source": [
    "print(stemmer.stem('stones'))\n",
    "print(stemmer.stem('speaking'))\n",
    "print(stemmer.stem('bedroom'))\n",
    "print(stemmer.stem('jokes'))\n",
    "print(stemmer.stem('lisa'))\n",
    "print(stemmer.stem('purple'))\n"
   ]
  },
  {
   "cell_type": "code",
   "execution_count": 28,
   "id": "a3d1016f",
   "metadata": {},
   "outputs": [
    {
     "name": "stdout",
     "output_type": "stream",
     "text": [
      "stone\n",
      "speaking\n",
      "beedroom\n",
      "joke\n",
      "lisa\n",
      "purle\n"
     ]
    }
   ],
   "source": [
    "print(lemmatizer.lemmatize('stones'))\n",
    "print(lemmatizer.lemmatize('speaking'))\n",
    "print(lemmatizer.lemmatize('beedroom'))\n",
    "print(lemmatizer.lemmatize('jokes'))\n",
    "print(lemmatizer.lemmatize('lisa'))\n",
    "print(lemmatizer.lemmatize('purle'))\n"
   ]
  },
  {
   "cell_type": "code",
   "execution_count": null,
   "id": "a4668e9a",
   "metadata": {},
   "outputs": [],
   "source": []
  }
 ],
 "metadata": {
  "kernelspec": {
   "display_name": "Python 3 (ipykernel)",
   "language": "python",
   "name": "python3"
  },
  "language_info": {
   "codemirror_mode": {
    "name": "ipython",
    "version": 3
   },
   "file_extension": ".py",
   "mimetype": "text/x-python",
   "name": "python",
   "nbconvert_exporter": "python",
   "pygments_lexer": "ipython3",
   "version": "3.12.4"
  }
 },
 "nbformat": 4,
 "nbformat_minor": 5
}
