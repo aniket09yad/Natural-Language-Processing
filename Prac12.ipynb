{
 "cells": [
  {
   "cell_type": "code",
   "execution_count": 1,
   "id": "918ac33f",
   "metadata": {},
   "outputs": [],
   "source": [
    "from gensim.models import Word2Vec\n",
    "from gensim.utils import simple_preprocess\n"
   ]
  },
  {
   "cell_type": "code",
   "execution_count": 2,
   "id": "0ed417cf",
   "metadata": {},
   "outputs": [],
   "source": [
    "corpus=[\n",
    "    \"she is a great dancer\",\n",
    "    \"he is a wonderful musician\",\n",
    "    \"they are excellent atteir craft\",\n",
    "]"
   ]
  },
  {
   "cell_type": "code",
   "execution_count": 3,
   "id": "cf0c1c10",
   "metadata": {},
   "outputs": [
    {
     "name": "stdout",
     "output_type": "stream",
     "text": [
      "Vectoer for great':{word_vector}\n",
      "most similar words to 'great':\n",
      "she:0.1094\n",
      "wonderful:0.1089\n",
      "is:0.0629\n",
      "musician:0.0505\n",
      "he:0.0268\n",
      "they:0.0200\n",
      "dancer:0.0150\n",
      "excellent:0.0130\n",
      "atteir:-0.1020\n",
      "craft:-0.1343\n"
     ]
    }
   ],
   "source": [
    "processed_corpus=[simple_preprocess(sentence) for sentence in corpus]\n",
    "model=Word2Vec(sentences=processed_corpus,vector_size=100,window=2,sg=1,min_count=1)\n",
    "model.save(\"skipgram_model.bin\")\n",
    "word_vector=model.wv['great']\n",
    "print(\"Vectoer for great':{word_vector}\")\n",
    "similar_words=model.wv.most_similar('great')\n",
    "print(\"most similar words to 'great':\")\n",
    "for word,similarity in similar_words:\n",
    "    print(f\"{word}:{similarity:.4f}\")"
   ]
  },
  {
   "cell_type": "code",
   "execution_count": null,
   "id": "be2ba9c9",
   "metadata": {},
   "outputs": [],
   "source": []
  }
 ],
 "metadata": {
  "kernelspec": {
   "display_name": "Python 3 (ipykernel)",
   "language": "python",
   "name": "python3"
  },
  "language_info": {
   "codemirror_mode": {
    "name": "ipython",
    "version": 3
   },
   "file_extension": ".py",
   "mimetype": "text/x-python",
   "name": "python",
   "nbconvert_exporter": "python",
   "pygments_lexer": "ipython3",
   "version": "3.9.12"
  }
 },
 "nbformat": 4,
 "nbformat_minor": 5
}
