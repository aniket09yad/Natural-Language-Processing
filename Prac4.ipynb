{
 "cells": [
  {
   "cell_type": "code",
   "execution_count": 7,
   "id": "c50e10b3-d6a2-4a0f-9181-3c16695dc892",
   "metadata": {},
   "outputs": [
    {
     "name": "stderr",
     "output_type": "stream",
     "text": [
      "[nltk_data] Downloading package stopwords to\n",
      "[nltk_data]     C:\\Users\\anike\\AppData\\Roaming\\nltk_data...\n",
      "[nltk_data]   Package stopwords is already up-to-date!\n",
      "[nltk_data] Downloading package punkt to\n",
      "[nltk_data]     C:\\Users\\anike\\AppData\\Roaming\\nltk_data...\n",
      "[nltk_data]   Package punkt is already up-to-date!\n"
     ]
    },
    {
     "data": {
      "text/plain": [
       "True"
      ]
     },
     "execution_count": 7,
     "metadata": {},
     "output_type": "execute_result"
    }
   ],
   "source": [
    "import nltk\n",
    "from nltk.corpus import stopwords\n",
    "from nltk.tokenize import word_tokenize, sent_tokenize\n",
    "nltk.download('stopwords')\n",
    "nltk.download('punkt')"
   ]
  },
  {
   "cell_type": "code",
   "execution_count": 9,
   "id": "da0062ba-2dcf-47f6-820e-802c38524622",
   "metadata": {},
   "outputs": [],
   "source": [
    "text = \"\"\" A week ago a friend invited a couple of other couples over for dinner. Eventually, the food (but not the wine) was cleared off the table for what turned out to be some fierce Scrabbling. Heeding the strategy of going for the shorter, more valuable word over the longer cheaper word, our final play was “Bon,” which–as luck would have it!–happens to be a Japanese Buddhist festival, and not, as I had originally asserted while laying the tiles on the board, one half of a chocolate-covered cherry treat. Anyway, the strategy worked. My team only lost by 53 points instead of 58.\n",
    "\n",
    "Just the day before, our host had written of the challenges of writing short. In journalism–my friend’s chosen trade, and mostly my own, too–Mark Twain’s observation undoubtedly applies: “I didn’t have time to write a short letter, so I wrote a long one instead.” The principle holds across genres, in letters, reporting, and other writing. It’s harder to be concise than to blather. (Full disclosure, this blog post will clock in at a blather-esque 803 words.) Good writing is boiled down, not baked full of air like a souffl??. No matter how yummy souffl??s may be. Which they are. Yummy like a Grisham novel. \"\"\""
   ]
  },
  {
   "cell_type": "code",
   "execution_count": 11,
   "id": "8f638624-5f83-44b4-a89f-958035fb336a",
   "metadata": {},
   "outputs": [
    {
     "name": "stdout",
     "output_type": "stream",
     "text": [
      "{'while', 'be', \"isn't\", 'mustn', 'yourselves', 'during', 'ours', 'from', 'all', 'it', 'did', 'if', 'does', 'after', 'yours', \"haven't\", 'more', 'before', \"weren't\", \"you'd\", 'this', 'aren', 'll', \"wouldn't\", 'by', 'same', 'how', 'ma', 't', \"doesn't\", 'ain', 'you', \"she's\", 'myself', 'm', \"you'll\", 'now', 're', 'to', 'over', \"wasn't\", 'an', \"aren't\", \"that'll\", 'just', 'mightn', 'further', 'through', 'its', 'any', 'where', 'for', 'most', \"it's\", 'why', \"you've\", 'very', 'your', 'other', 'am', 'than', 'of', 'here', \"don't\", 'being', 'yourself', 'them', 'can', 'those', 'not', 'weren', 'up', 'once', 'wasn', 'no', 'who', 'such', 'nor', 'my', 'below', 'each', 'our', 'what', 'because', 'hers', 'under', 'o', 'won', 'into', 'me', 'some', 'shouldn', 'or', 'been', 'about', 'he', 'these', 'out', 'doing', 'has', 'ourselves', \"you're\", 'above', 'both', 'her', 'themselves', 've', 'between', 'so', \"mightn't\", 'y', 'in', 'didn', \"couldn't\", 'do', 'are', 'when', 'd', 'is', 's', 'i', 'that', 'his', \"didn't\", 'she', 'we', 'haven', 'again', 'but', 'shan', 'him', 'itself', 'doesn', 'hasn', 'they', 'then', 'only', 'should', \"won't\", 'will', \"mustn't\", \"needn't\", 'off', \"hasn't\", 'until', 'their', \"hadn't\", 'hadn', 'whom', 'have', 'a', 'which', 'theirs', 'was', 'at', 'own', \"shan't\", 'and', 'had', 'with', 'as', 'having', 'were', 'couldn', 'himself', 'against', 'there', 'isn', 'few', 'wouldn', 'needn', 'down', 'too', \"shouldn't\", 'herself', 'on', 'the', \"should've\", 'don'}\n",
      "['A', 'week', 'ago', 'a', 'friend', 'invited', 'a', 'couple', 'of', 'other', 'couples', 'over', 'for', 'dinner', '.', 'Eventually', ',', 'the', 'food', '(', 'but', 'not', 'the', 'wine', ')', 'was', 'cleared', 'off', 'the', 'table', 'for', 'what', 'turned', 'out', 'to', 'be', 'some', 'fierce', 'Scrabbling', '.', 'Heeding', 'the', 'strategy', 'of', 'going', 'for', 'the', 'shorter', ',', 'more', 'valuable', 'word', 'over', 'the', 'longer', 'cheaper', 'word', ',', 'our', 'final', 'play', 'was', '“', 'Bon', ',', '”', 'which–as', 'luck', 'would', 'have', 'it', '!', '–happens', 'to', 'be', 'a', 'Japanese', 'Buddhist', 'festival', ',', 'and', 'not', ',', 'as', 'I', 'had', 'originally', 'asserted', 'while', 'laying', 'the', 'tiles', 'on', 'the', 'board', ',', 'one', 'half', 'of', 'a', 'chocolate-covered', 'cherry', 'treat', '.', 'Anyway', ',', 'the', 'strategy', 'worked', '.', 'My', 'team', 'only', 'lost', 'by', '53', 'points', 'instead', 'of', '58', '.', 'Just', 'the', 'day', 'before', ',', 'our', 'host', 'had', 'written', 'of', 'the', 'challenges', 'of', 'writing', 'short', '.', 'In', 'journalism–my', 'friend', '’', 's', 'chosen', 'trade', ',', 'and', 'mostly', 'my', 'own', ',', 'too–Mark', 'Twain', '’', 's', 'observation', 'undoubtedly', 'applies', ':', '“', 'I', 'didn', '’', 't', 'have', 'time', 'to', 'write', 'a', 'short', 'letter', ',', 'so', 'I', 'wrote', 'a', 'long', 'one', 'instead.', '”', 'The', 'principle', 'holds', 'across', 'genres', ',', 'in', 'letters', ',', 'reporting', ',', 'and', 'other', 'writing', '.', 'It', '’', 's', 'harder', 'to', 'be', 'concise', 'than', 'to', 'blather', '.', '(', 'Full', 'disclosure', ',', 'this', 'blog', 'post', 'will', 'clock', 'in', 'at', 'a', 'blather-esque', '803', 'words', '.', ')', 'Good', 'writing', 'is', 'boiled', 'down', ',', 'not', 'baked', 'full', 'of', 'air', 'like', 'a', 'souffl', '?', '?', '.', 'No', 'matter', 'how', 'yummy', 'souffl', '?', '?', 's', 'may', 'be', '.', 'Which', 'they', 'are', '.', 'Yummy', 'like', 'a', 'Grisham', 'novel', '.']\n"
     ]
    }
   ],
   "source": [
    "stopWords = set(stopwords.words('english'))\n",
    "print(stopWords)\n",
    "words = word_tokenize(text)\n",
    "print(words)\n"
   ]
  },
  {
   "cell_type": "code",
   "execution_count": 13,
   "id": "be93e280-710e-4dd4-a4bf-d6f89aa1b1e6",
   "metadata": {},
   "outputs": [
    {
     "name": "stdout",
     "output_type": "stream",
     "text": [
      "{'week': 1, 'ago': 1, 'friend': 2, 'invited': 1, 'couple': 1, 'couples': 1, 'dinner': 1, '.': 13, 'eventually': 1, ',': 17, 'food': 1, '(': 2, 'wine': 1, ')': 2, 'cleared': 1, 'table': 1, 'turned': 1, 'fierce': 1, 'scrabbling': 1, 'heeding': 1, 'strategy': 2, 'going': 1, 'shorter': 1, 'valuable': 1, 'word': 2, 'longer': 1, 'cheaper': 1, 'final': 1, 'play': 1, '“': 2, 'bon': 1, '”': 2, 'which–as': 1, 'luck': 1, 'would': 1, '!': 1, '–happens': 1, 'japanese': 1, 'buddhist': 1, 'festival': 1, 'originally': 1, 'asserted': 1, 'laying': 1, 'tiles': 1, 'board': 1, 'one': 2, 'half': 1, 'chocolate-covered': 1, 'cherry': 1, 'treat': 1, 'anyway': 1, 'worked': 1, 'team': 1, 'lost': 1, '53': 1, 'points': 1, 'instead': 1, '58': 1, 'day': 1, 'host': 1, 'written': 1, 'challenges': 1, 'writing': 3, 'short': 2, 'journalism–my': 1, '’': 4, 'chosen': 1, 'trade': 1, 'mostly': 1, 'too–mark': 1, 'twain': 1, 'observation': 1, 'undoubtedly': 1, 'applies': 1, ':': 1, 'time': 1, 'write': 1, 'letter': 1, 'wrote': 1, 'long': 1, 'instead.': 1, 'principle': 1, 'holds': 1, 'across': 1, 'genres': 1, 'letters': 1, 'reporting': 1, 'harder': 1, 'concise': 1, 'blather': 1, 'full': 2, 'disclosure': 1, 'blog': 1, 'post': 1, 'clock': 1, 'blather-esque': 1, '803': 1, 'words': 1, 'good': 1, 'boiled': 1, 'baked': 1, 'air': 1, 'like': 2, 'souffl': 2, '?': 4, 'matter': 1, 'yummy': 2, 'may': 1, 'grisham': 1, 'novel': 1}\n"
     ]
    }
   ],
   "source": [
    "freqtable = dict()\n",
    "for word in words:\n",
    "    word=word.lower()\n",
    "    if word in stopWords:\n",
    "        continue\n",
    "    if word in freqtable:\n",
    "        freqtable[word] += 1\n",
    "    else:\n",
    "        freqtable[word] = 1\n",
    "print(freqtable)"
   ]
  },
  {
   "cell_type": "code",
   "execution_count": 15,
   "id": "e4d078fb-0ea8-4671-a887-07c4c8d77201",
   "metadata": {},
   "outputs": [
    {
     "name": "stdout",
     "output_type": "stream",
     "text": [
      "[' A week ago a friend invited a couple of other couples over for dinner.', 'Eventually, the food (but not the wine) was cleared off the table for what turned out to be some fierce Scrabbling.', 'Heeding the strategy of going for the shorter, more valuable word over the longer cheaper word, our final play was “Bon,” which–as luck would have it!–happens to be a Japanese Buddhist festival, and not, as I had originally asserted while laying the tiles on the board, one half of a chocolate-covered cherry treat.', 'Anyway, the strategy worked.', 'My team only lost by 53 points instead of 58.', 'Just the day before, our host had written of the challenges of writing short.', 'In journalism–my friend’s chosen trade, and mostly my own, too–Mark Twain’s observation undoubtedly applies: “I didn’t have time to write a short letter, so I wrote a long one instead.” The principle holds across genres, in letters, reporting, and other writing.', 'It’s harder to be concise than to blather.', '(Full disclosure, this blog post will clock in at a blather-esque 803 words.)', 'Good writing is boiled down, not baked full of air like a souffl??.', 'No matter how yummy souffl?', '?s may be.', 'Which they are.', 'Yummy like a Grisham novel.']\n",
      "{' A week ago a friend invited a couple of other couples over for dinner.': 21, 'Eventually, the food (but not the wine) was cleared off the table for what turned out to be some fierce Scrabbling.': 42, 'Heeding the strategy of going for the shorter, more valuable word over the longer cheaper word, our final play was “Bon,” which–as luck would have it!–happens to be a Japanese Buddhist festival, and not, as I had originally asserted while laying the tiles on the board, one half of a chocolate-covered cherry treat.': 69, 'Anyway, the strategy worked.': 34, 'My team only lost by 53 points instead of 58.': 19, 'Just the day before, our host had written of the challenges of writing short.': 39, 'In journalism–my friend’s chosen trade, and mostly my own, too–Mark Twain’s observation undoubtedly applies: “I didn’t have time to write a short letter, so I wrote a long one instead.” The principle holds across genres, in letters, reporting, and other writing.': 70, 'It’s harder to be concise than to blather.': 20, '(Full disclosure, this blog post will clock in at a blather-esque 803 words.)': 46, 'Good writing is boiled down, not baked full of air like a souffl??.': 47, 'No matter how yummy souffl?': 9, '?s may be.': 18, 'Which they are.': 13, 'Yummy like a Grisham novel.': 19}\n"
     ]
    }
   ],
   "source": [
    "sentences = sent_tokenize(text)\n",
    "print(sentences)\n",
    "sentenceValue = dict()\n",
    "\n",
    "for sentence in sentences:\n",
    "    for word, freq in freqtable.items():\n",
    "        if word in sentence.lower():\n",
    "            if sentence in sentenceValue:\n",
    "                sentenceValue[sentence] += freq\n",
    "            else:\n",
    "                sentenceValue[sentence] = freq\n",
    " \n",
    "print(sentenceValue)"
   ]
  },
  {
   "cell_type": "code",
   "execution_count": 17,
   "id": "a9622ce2-9b78-446a-867c-fa239fe65c7b",
   "metadata": {},
   "outputs": [
    {
     "name": "stdout",
     "output_type": "stream",
     "text": [
      "466\n"
     ]
    }
   ],
   "source": [
    "sumValues = 0\n",
    "for sentence in sentenceValue:\n",
    "    sumValues += sentenceValue[sentence]\n",
    "print(sumValues)"
   ]
  },
  {
   "cell_type": "code",
   "execution_count": 19,
   "id": "470e49e4-c47d-4294-9e48-6c18c1dd242f",
   "metadata": {},
   "outputs": [
    {
     "name": "stdout",
     "output_type": "stream",
     "text": [
      "33\n"
     ]
    }
   ],
   "source": [
    "#Average value of a sentence from the original text\n",
    "average = int(sumValues / len(sentenceValue))\n",
    "print(average)"
   ]
  },
  {
   "cell_type": "code",
   "execution_count": 23,
   "id": "1003b643-7a89-488d-b5b5-907868e8d263",
   "metadata": {},
   "outputs": [
    {
     "name": "stdout",
     "output_type": "stream",
     "text": [
      "Eventually, the food (but not the wine) was cleared off the table for what turned out to be some fierce Scrabbling.Heeding the strategy of going for the shorter, more valuable word over the longer cheaper word, our final play was “Bon,” which–as luck would have it!–happens to be a Japanese Buddhist festival, and not, as I had originally asserted while laying the tiles on the board, one half of a chocolate-covered cherry treat.In journalism–my friend’s chosen trade, and mostly my own, too–Mark Twain’s observation undoubtedly applies: “I didn’t have time to write a short letter, so I wrote a long one instead.” The principle holds across genres, in letters, reporting, and other writing.(Full disclosure, this blog post will clock in at a blather-esque 803 words.)Good writing is boiled down, not baked full of air like a souffl??.\n"
     ]
    }
   ],
   "source": [
    "#Storing sentences into our summary\n",
    "summary =''\n",
    "for sentence in sentences:\n",
    "    if(sentence in sentenceValue) and (sentenceValue[sentence] > (1.2 * average)):\n",
    "        summary += \"\"+sentence\n",
    "print(summary)\n"
   ]
  },
  {
   "cell_type": "code",
   "execution_count": null,
   "id": "967bb07b-cc37-48e5-a5a5-d44b87b44390",
   "metadata": {},
   "outputs": [],
   "source": []
  }
 ],
 "metadata": {
  "kernelspec": {
   "display_name": "Python 3 (ipykernel)",
   "language": "python",
   "name": "python3"
  },
  "language_info": {
   "codemirror_mode": {
    "name": "ipython",
    "version": 3
   },
   "file_extension": ".py",
   "mimetype": "text/x-python",
   "name": "python",
   "nbconvert_exporter": "python",
   "pygments_lexer": "ipython3",
   "version": "3.12.4"
  }
 },
 "nbformat": 4,
 "nbformat_minor": 5
}
