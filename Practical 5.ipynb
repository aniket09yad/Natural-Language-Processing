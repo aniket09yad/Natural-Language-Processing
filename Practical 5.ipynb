{
 "cells": [
  {
   "cell_type": "code",
   "execution_count": null,
   "id": "688d0a65",
   "metadata": {},
   "outputs": [],
   "source": [
    "#Practical 5"
   ]
  },
  {
   "cell_type": "code",
   "execution_count": null,
   "id": "95d86e27",
   "metadata": {},
   "outputs": [],
   "source": [
    "#Write a program to implement n-grams model "
   ]
  },
  {
   "cell_type": "code",
   "execution_count": 8,
   "id": "e9a10cfa",
   "metadata": {},
   "outputs": [
    {
     "name": "stdout",
     "output_type": "stream",
     "text": [
      "('You',)\n",
      "('will',)\n",
      "('face',)\n",
      "('many',)\n",
      "('defeat',)\n",
      "('in',)\n",
      "('life,',)\n",
      "('but',)\n",
      "('never',)\n",
      "('let',)\n",
      "('yourself',)\n",
      "('down',)\n"
     ]
    }
   ],
   "source": [
    "#Unigrams or 1-grams\n",
    "\n",
    "from nltk.util import ngrams\n",
    "n = 1\n",
    "sentence = 'You will face many defeat  in life, but never let yourself down'\n",
    "unigrams = ngrams(sentence.split(), n)\n",
    "\n",
    "for item in unigrams:\n",
    "    print(item)\n",
    "    \n"
   ]
  },
  {
   "cell_type": "code",
   "execution_count": 14,
   "id": "805183ed",
   "metadata": {},
   "outputs": [
    {
     "name": "stdout",
     "output_type": "stream",
     "text": [
      "('You', 'will')\n",
      "('will', 'face')\n",
      "('face', 'many')\n",
      "('many', 'defeat')\n",
      "('defeat', 'in')\n",
      "('in', 'life,')\n",
      "('life,', 'but')\n",
      "('but', 'never')\n",
      "('never', 'let')\n",
      "('let', 'yourself')\n",
      "('yourself', 'down')\n"
     ]
    }
   ],
   "source": [
    "#biagrams or 2-grams\n",
    "\n",
    "n1 = 2\n",
    "sentence1 = 'The purpose of our life us to happy'\n",
    "bigrams = ngrams(sentence.split(), n1)\n",
    "\n",
    "for item1 in bigrams:\n",
    "    print(item1)"
   ]
  },
  {
   "cell_type": "code",
   "execution_count": 7,
   "id": "580bca09",
   "metadata": {},
   "outputs": [
    {
     "name": "stdout",
     "output_type": "stream",
     "text": [
      "('You', 'will', 'face')\n",
      "('will', 'face', 'many')\n",
      "('face', 'many', 'defeat')\n",
      "('many', 'defeat', 'in')\n",
      "('defeat', 'in', 'life,')\n",
      "('in', 'life,', 'but')\n",
      "('life,', 'but', 'never')\n",
      "('but', 'never', 'let')\n",
      "('never', 'let', 'yourself')\n",
      "('let', 'yourself', 'down')\n"
     ]
    }
   ],
   "source": [
    "# Trigrams or 3-grams\n",
    "n2 = 3\n",
    "sentence2 = 'Whoever is happy will make others happy too'\n",
    "trigrams = ngrams(sentence.split(), n2)\n",
    "\n",
    "for item2 in trigrams:\n",
    "    print(item2)\n"
   ]
  },
  {
   "cell_type": "code",
   "execution_count": 8,
   "id": "e98ea80b",
   "metadata": {},
   "outputs": [
    {
     "name": "stdout",
     "output_type": "stream",
     "text": [
      "Entern the sentence: my name is aniket yadav is the computer science student  is the marketing expert\n",
      "Enter the value of n: 2\n",
      "('my', 'name')\n",
      "('name', 'is')\n",
      "('is', 'aniket')\n",
      "('aniket', 'yadav')\n",
      "('yadav', 'is')\n",
      "('is', 'the')\n",
      "('the', 'computer')\n",
      "('computer', 'science')\n",
      "('science', 'student')\n",
      "('student', 'is')\n",
      "('is', 'the')\n",
      "('the', 'marketing')\n",
      "('marketing', 'expert')\n"
     ]
    }
   ],
   "source": [
    "#Genericv Example of ngram in NLTK\n",
    "\n",
    "from nltk import ngrams\n",
    "sentence = input(\"Entern the sentence: \")\n",
    "n = int(input('Enter the value of n: '))\n",
    "n_grams = ngrams(sentence.split(), n)\n",
    "for grams in n_grams:\n",
    "    print(grams)"
   ]
  },
  {
   "cell_type": "code",
   "execution_count": 9,
   "id": "0021f92d",
   "metadata": {},
   "outputs": [
    {
     "data": {
      "text/plain": [
       "[('who',),\n",
       " ('who', 'let'),\n",
       " ('who', 'let', 'the'),\n",
       " ('who', 'let', 'the', 'dog'),\n",
       " ('who', 'let', 'the', 'dog', 'out'),\n",
       " ('let',),\n",
       " ('let', 'the'),\n",
       " ('let', 'the', 'dog'),\n",
       " ('let', 'the', 'dog', 'out'),\n",
       " ('the',),\n",
       " ('the', 'dog'),\n",
       " ('the', 'dog', 'out'),\n",
       " ('dog',),\n",
       " ('dog', 'out'),\n",
       " ('out',)]"
      ]
     },
     "execution_count": 9,
     "metadata": {},
     "output_type": "execute_result"
    }
   ],
   "source": [
    "#Generic Example of everygram in nltk\n",
    "\n",
    "from nltk.util import everygrams\n",
    "\n",
    "message = \"who let the dog out\"\n",
    "msg_split = message.split()\n",
    "\n",
    "list(everygrams(msg_split))"
   ]
  },
  {
   "cell_type": "code",
   "execution_count": null,
   "id": "34254faa",
   "metadata": {},
   "outputs": [],
   "source": []
  }
 ],
 "metadata": {
  "kernelspec": {
   "display_name": "Python 3 (ipykernel)",
   "language": "python",
   "name": "python3"
  },
  "language_info": {
   "codemirror_mode": {
    "name": "ipython",
    "version": 3
   },
   "file_extension": ".py",
   "mimetype": "text/x-python",
   "name": "python",
   "nbconvert_exporter": "python",
   "pygments_lexer": "ipython3",
   "version": "3.12.4"
  }
 },
 "nbformat": 4,
 "nbformat_minor": 5
}
