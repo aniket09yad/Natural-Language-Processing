{
 "cells": [
  {
   "cell_type": "code",
   "execution_count": 8,
   "metadata": {
    "colab": {
     "base_uri": "https://localhost:8080/"
    },
    "executionInfo": {
     "elapsed": 656,
     "status": "ok",
     "timestamp": 1719822473957,
     "user": {
      "displayName": "506_Siddhant Singh Chauhan",
      "userId": "16853132131498276314"
     },
     "user_tz": -330
    },
    "id": "7SVsoTIxWl5a",
    "outputId": "eb973a39-b065-4fb3-efcc-36e5691a48f5"
   },
   "outputs": [
    {
     "name": "stderr",
     "output_type": "stream",
     "text": [
      "[nltk_data] Downloading package punkt to /root/nltk_data...\n",
      "[nltk_data]   Package punkt is already up-to-date!\n",
      "[nltk_data] Downloading package averaged_perceptron_tagger to\n",
      "[nltk_data]     /root/nltk_data...\n",
      "[nltk_data]   Package averaged_perceptron_tagger is already up-to-\n",
      "[nltk_data]       date!\n"
     ]
    },
    {
     "data": {
      "text/plain": [
       "True"
      ]
     },
     "execution_count": 8,
     "metadata": {},
     "output_type": "execute_result"
    }
   ],
   "source": [
    "import nltk\n",
    "nltk.download(\"punkt\")\n",
    "nltk.download(\"averaged_perceptron_tagger\")"
   ]
  },
  {
   "cell_type": "code",
   "execution_count": 11,
   "metadata": {
    "colab": {
     "base_uri": "https://localhost:8080/"
    },
    "executionInfo": {
     "elapsed": 428,
     "status": "ok",
     "timestamp": 1719822535927,
     "user": {
      "displayName": "506_Siddhant Singh Chauhan",
      "userId": "16853132131498276314"
     },
     "user_tz": -330
    },
    "id": "DkrO_tUeW4xq",
    "outputId": "5cf0ee68-96ae-4170-e55a-df55b94ad95a"
   },
   "outputs": [
    {
     "name": "stdout",
     "output_type": "stream",
     "text": [
      "original text\n",
      "nltk is powerful library for natural language processing\n",
      "\n",
      " pos tagging result:\n",
      "nltk:NN\n",
      "is:VBZ\n",
      "powerful:JJ\n",
      "library:NN\n",
      "for:IN\n",
      "natural:JJ\n",
      "language:NN\n",
      "processing:NN\n"
     ]
    }
   ],
   "source": [
    "import nltk\n",
    "from nltk.tokenize import word_tokenize\n",
    "from nltk import pos_tag\n",
    "text=\"nltk is powerful library for natural language processing\"\n",
    "words=word_tokenize(text)\n",
    "pos_tags=pos_tag(words)\n",
    "print(\"original text\")\n",
    "print(text)\n",
    "print(\"\\n pos tagging result:\")\n",
    "for word,pos_tag in pos_tags:\n",
    "  print(f\"{word}:{pos_tag}\")\n",
    "\n"
   ]
  },
  {
   "cell_type": "code",
   "execution_count": 10,
   "metadata": {
    "colab": {
     "base_uri": "https://localhost:8080/"
    },
    "executionInfo": {
     "elapsed": 1028,
     "status": "ok",
     "timestamp": 1719822480100,
     "user": {
      "displayName": "506_Siddhant Singh Chauhan",
      "userId": "16853132131498276314"
     },
     "user_tz": -330
    },
    "id": "2hjqtMCfXvqi",
    "outputId": "c28bc08c-d9fd-4706-9da8-44e9dcf59fc8"
   },
   "outputs": [
    {
     "name": "stdout",
     "output_type": "stream",
     "text": [
      "3\n"
     ]
    }
   ],
   "source": [
    "def editdistance(str1,str2,m,n):\n",
    "  if m==0:\n",
    "    return n\n",
    "  if n==0:\n",
    "    return m\n",
    "  if str1[m-1]==str2[n-1]:\n",
    "    return editdistance(str1,str2,m-1,n-1)\n",
    "  return 1+min(editdistance(str1,str2,m,n-1),\n",
    "             editdistance(str1,str2,m-1,n),\n",
    "             editdistance(str1,str2,m-1,n-1))\n",
    "str1=\"sunday\"\n",
    "str2=\"saturday\"\n",
    "print(editdistance(str1,str2,len(str1),len(str2)))\n",
    "\n"
   ]
  }
 ],
 "metadata": {
  "colab": {
   "authorship_tag": "ABX9TyMIiqz8JZPXVBXkERgQqiji",
   "provenance": []
  },
  "kernelspec": {
   "display_name": "Python 3 (ipykernel)",
   "language": "python",
   "name": "python3"
  },
  "language_info": {
   "codemirror_mode": {
    "name": "ipython",
    "version": 3
   },
   "file_extension": ".py",
   "mimetype": "text/x-python",
   "name": "python",
   "nbconvert_exporter": "python",
   "pygments_lexer": "ipython3",
   "version": "3.12.4"
  }
 },
 "nbformat": 4,
 "nbformat_minor": 4
}
