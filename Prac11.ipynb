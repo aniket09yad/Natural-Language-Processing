{
 "cells": [
  {
   "cell_type": "code",
   "execution_count": 9,
   "id": "db7a3e3f",
   "metadata": {},
   "outputs": [
    {
     "name": "stdout",
     "output_type": "stream",
     "text": [
      "Defaulting to user installation because normal site-packages is not writeable\n",
      "Requirement already satisfied: vaderSentiment in c:\\users\\admin\\appdata\\roaming\\python\\python39\\site-packages (3.3.2)\n",
      "Requirement already satisfied: requests in c:\\programdata\\anaconda3\\lib\\site-packages (from vaderSentiment) (2.27.1)\n",
      "Requirement already satisfied: certifi>=2017.4.17 in c:\\programdata\\anaconda3\\lib\\site-packages (from requests->vaderSentiment) (2021.10.8)\n",
      "Requirement already satisfied: urllib3<1.27,>=1.21.1 in c:\\programdata\\anaconda3\\lib\\site-packages (from requests->vaderSentiment) (1.26.9)\n",
      "Requirement already satisfied: charset-normalizer~=2.0.0 in c:\\programdata\\anaconda3\\lib\\site-packages (from requests->vaderSentiment) (2.0.4)\n",
      "Requirement already satisfied: idna<4,>=2.5 in c:\\programdata\\anaconda3\\lib\\site-packages (from requests->vaderSentiment) (3.3)\n",
      "Sentiment Analysis using VADER:\n",
      "{'neg': 0.0, 'neu': 0.705, 'pos': 0.295, 'compound': 0.9061}\n"
     ]
    }
   ],
   "source": [
    "!pip install vaderSentiment\n",
    "from vaderSentiment.vaderSentiment import SentimentIntensityAnalyzer\n",
    "# Initialize VADER sentiment analyzer\n",
    "analyzer = SentimentIntensityAnalyzer()\n",
    "# Review text\n",
    "review_text = \"Had a wonderful experience at the new restaurant.The food was absolutely delicious, and the service was fantastic. However, the ambiance could have been better,and the prices were a bit high.\"\n",
    "# Analyze sentiment\n",
    "sentiment=analyzer.polarity_scores (review_text)\n",
    "print(\"Sentiment Analysis using VADER:\")\n",
    "print(sentiment)"
   ]
  },
  {
   "cell_type": "code",
   "execution_count": 20,
   "id": "9a2cfbb3",
   "metadata": {},
   "outputs": [
    {
     "name": "stdout",
     "output_type": "stream",
     "text": [
      "Sentiment Analysis using Rule-Based Approach:\n",
      "Positive\n"
     ]
    }
   ],
   "source": [
    "def rule_based_sentiment (text):\n",
    "    positive_words = ['wonderful', 'delicious', 'fantastic']\n",
    "    negative_words = ['high', 'worse', 'bad']\n",
    "    score = 0\n",
    "    for word in positive_words:\n",
    "        if word in text: score += 1\n",
    "    for word in negative_words:\n",
    "        if word in text: score -= 1\n",
    "    if score > 0:\n",
    "        return 'Positive'\n",
    "    elif score < 0:\n",
    "        return 'Negative'\n",
    "    else:\n",
    "        return 'Neutral'\n",
    "# Analyze sentiment\n",
    "sentiment=rule_based_sentiment (review_text) \n",
    "print(\"Sentiment Analysis using Rule-Based Approach:\") \n",
    "print(sentiment)"
   ]
  },
  {
   "cell_type": "code",
   "execution_count": 28,
   "id": "5bbb4eb4",
   "metadata": {},
   "outputs": [
    {
     "name": "stdout",
     "output_type": "stream",
     "text": [
      "Emotion Mining using Lexicon-Based Approach: \n",
      "['joy']\n"
     ]
    }
   ],
   "source": [
    "emotion_lexicon = { 'happy': 'joy',\n",
    "'wonderful': 'joy',\n",
    "'delicious': 'joy',\n",
    "'fantastic': 'joy',\n",
    "'high': 'anger',\n",
    "'worse': 'sadness', 'bad': 'sadness'}\n",
    "def extract_emotions(text):\n",
    "    words=text.lower().split()\n",
    "    emotions = []\n",
    "    for word in words:\n",
    "        if word in emotion_lexicon:\n",
    "            emotions.append(emotion_lexicon [word])\n",
    "            return emotions\n",
    "# Extract emotions\n",
    "emotions=extract_emotions (review_text)\n",
    "print(\"Emotion Mining using Lexicon-Based Approach: \") \n",
    "print(emotions)"
   ]
  },
  {
   "cell_type": "code",
   "execution_count": 35,
   "id": "fb1c4de9",
   "metadata": {},
   "outputs": [
    {
     "name": "stdout",
     "output_type": "stream",
     "text": [
      "Emotion Mining using Rule-Based Approach:\n",
      "joy\n"
     ]
    }
   ],
   "source": [
    "def detect_emotion(text):\n",
    "    if \"wonderful\" in text or \"delicious\" in text or \"fantastic\" in text:\n",
    "        return 'joy'\n",
    "    elif \"high\" in text:\n",
    "        return 'anger' \n",
    "    else:\n",
    "        return 'neutral'\n",
    "# Detect emotions\n",
    "emotion=detect_emotion (review_text)\n",
    "print(\"Emotion Mining using Rule-Based Approach:\")\n",
    "print (emotion)"
   ]
  },
  {
   "cell_type": "code",
   "execution_count": null,
   "id": "74653eda",
   "metadata": {},
   "outputs": [],
   "source": []
  }
 ],
 "metadata": {
  "kernelspec": {
   "display_name": "Python 3 (ipykernel)",
   "language": "python",
   "name": "python3"
  },
  "language_info": {
   "codemirror_mode": {
    "name": "ipython",
    "version": 3
   },
   "file_extension": ".py",
   "mimetype": "text/x-python",
   "name": "python",
   "nbconvert_exporter": "python",
   "pygments_lexer": "ipython3",
   "version": "3.9.12"
  }
 },
 "nbformat": 4,
 "nbformat_minor": 5
}
