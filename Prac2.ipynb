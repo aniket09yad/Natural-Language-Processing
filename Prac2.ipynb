{
 "cells": [
  {
   "cell_type": "code",
   "execution_count": 1,
   "id": "98c95ded-0c6e-4289-8c6a-485bd453a54b",
   "metadata": {},
   "outputs": [
    {
     "name": "stderr",
     "output_type": "stream",
     "text": [
      "[nltk_data] Downloading package punkt to\n",
      "[nltk_data]     C:\\Users\\anike\\AppData\\Roaming\\nltk_data...\n",
      "[nltk_data]   Package punkt is already up-to-date!\n"
     ]
    }
   ],
   "source": [
    "import nltk\n",
    "nltk.download('punkt')\n",
    "from nltk.tokenize import word_tokenize, sent_tokenize"
   ]
  },
  {
   "cell_type": "code",
   "execution_count": 7,
   "id": "3356acec-bb05-4b24-9431-6a6a78ecac14",
   "metadata": {},
   "outputs": [],
   "source": [
    "text = \"Good morining all . Hope you will like this video . Thank you\""
   ]
  },
  {
   "cell_type": "code",
   "execution_count": 9,
   "id": "743ec617-fee6-4810-b7a3-893ab9a6a028",
   "metadata": {},
   "outputs": [
    {
     "name": "stdout",
     "output_type": "stream",
     "text": [
      "['Good morining all .', 'Hope you will like this video .', 'Thank you']\n",
      "Good morining all .\n",
      "Hope you will like this video .\n",
      "Thank you\n"
     ]
    }
   ],
   "source": [
    "sentence_tokens = sent_tokenize(text)\n",
    "print(sentence_tokens)\n",
    "for sentence in sentence_tokens:\n",
    "    print(sentence)\n",
    "\n"
   ]
  },
  {
   "cell_type": "code",
   "execution_count": 17,
   "id": "45c65471-246c-4d96-a4a4-6aaba7644832",
   "metadata": {},
   "outputs": [],
   "source": [
    "from nltk.tokenize import word_tokenize\n",
    "sentence = \"Let's understand this concept in detail \"\n",
    "word_token = word_tokenize(sentence)"
   ]
  },
  {
   "cell_type": "code",
   "execution_count": 44,
   "id": "b7f417bf-0794-453d-9b77-c483f9a83f69",
   "metadata": {},
   "outputs": [
    {
     "name": "stdout",
     "output_type": "stream",
     "text": [
      "['Let', \"'s\", 'perform', 'different', 'types', 'of', 'tokenizer']\n"
     ]
    }
   ],
   "source": [
    "from nltk.tokenize import TreebankWordTokenizer, WordPunctTokenizer, WhitespaceTokenizer\n",
    "tree_tokenizer = TreebankWordTokenizer()\n",
    "word_punct_tokenizer = WordPunctTokenizer()\n",
    "white_space_tokenizer = WhitespaceTokenizer()\n",
    "sentence = \"Let's perform different types of tokenizer\"\n",
    "\n",
    "word_tokens = tree_tokenizer.tokenize(sentence)\n",
    "print(word_tokens)"
   ]
  },
  {
   "cell_type": "code",
   "execution_count": 46,
   "id": "d47086c5-4261-4cf0-a131-dcb33c60cd59",
   "metadata": {},
   "outputs": [
    {
     "name": "stdout",
     "output_type": "stream",
     "text": [
      "['Let', \"'\", 's', 'perform', 'different', 'types', 'of', 'tokenizer']\n"
     ]
    }
   ],
   "source": [
    "word_tokens = word_punct_tokenizer.tokenize(sentence)\n",
    "print(word_tokens)"
   ]
  },
  {
   "cell_type": "code",
   "execution_count": 48,
   "id": "06b20987-64d9-434a-8da7-dca2a6d4a839",
   "metadata": {},
   "outputs": [
    {
     "name": "stdout",
     "output_type": "stream",
     "text": [
      "[\"Let's\", 'perform', 'different', 'types', 'of', 'tokenizer']\n"
     ]
    }
   ],
   "source": [
    "word_tokens = white_space_tokenizer.tokenize(sentence)\n",
    "print(word_tokens)"
   ]
  },
  {
   "cell_type": "code",
   "execution_count": null,
   "id": "a4b2e4ba-cf44-4ba8-bf43-de3d5649b97c",
   "metadata": {},
   "outputs": [],
   "source": []
  }
 ],
 "metadata": {
  "kernelspec": {
   "display_name": "Python 3 (ipykernel)",
   "language": "python",
   "name": "python3"
  },
  "language_info": {
   "codemirror_mode": {
    "name": "ipython",
    "version": 3
   },
   "file_extension": ".py",
   "mimetype": "text/x-python",
   "name": "python",
   "nbconvert_exporter": "python",
   "pygments_lexer": "ipython3",
   "version": "3.12.4"
  }
 },
 "nbformat": 4,
 "nbformat_minor": 5
}
