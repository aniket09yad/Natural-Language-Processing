{
 "cells": [
  {
   "cell_type": "code",
   "execution_count": 2,
   "id": "3b440590",
   "metadata": {},
   "outputs": [],
   "source": [
    "import nltk\n",
    "from nltk import CFG\n",
    "from nltk.parse import ChartParser"
   ]
  },
  {
   "cell_type": "code",
   "execution_count": 3,
   "id": "75bb4b4c",
   "metadata": {},
   "outputs": [],
   "source": [
    "grammer = CFG.fromstring(\"\"\"\n",
    "S -> NP VP\n",
    "NP -> Det N | Det N PP\n",
    "PP -> P NP\n",
    "VP -> V NP | V NP PP\n",
    "Det -> 'the' | 'a'\n",
    "N -> 'dog' | 'cat' | 'park' | 'telescope'\n",
    "V -> 'saw' | 'ate'\n",
    "P -> 'in' | 'on' | 'with'\n",
    "\"\"\")"
   ]
  },
  {
   "cell_type": "code",
   "execution_count": 6,
   "id": "b86bf617",
   "metadata": {},
   "outputs": [
    {
     "name": "stdout",
     "output_type": "stream",
     "text": [
      "(S\n",
      "  (NP (Det the) (N dog))\n",
      "  (VP\n",
      "    (V saw)\n",
      "    (NP (Det the) (N cat))\n",
      "    (PP (P in) (NP (Det the) (N park)))))\n",
      "                 S                          \n",
      "      ___________|_______                    \n",
      "     |                   VP                 \n",
      "     |        ___________|_______            \n",
      "     |       |       |           PP         \n",
      "     |       |       |        ___|___        \n",
      "     NP      |       NP      |       NP     \n",
      "  ___|___    |    ___|___    |    ___|___    \n",
      "Det      N   V  Det      N   P  Det      N  \n",
      " |       |   |   |       |   |   |       |   \n",
      "the     dog saw the     cat  in the     park\n",
      "\n",
      "(S\n",
      "  (NP (Det the) (N dog))\n",
      "  (VP\n",
      "    (V saw)\n",
      "    (NP (Det the) (N cat) (PP (P in) (NP (Det the) (N park))))))\n",
      "                 S                      \n",
      "      ___________|___                    \n",
      "     |               VP                 \n",
      "     |        _______|___                \n",
      "     |       |           NP             \n",
      "     |       |    _______|___            \n",
      "     |       |   |   |       PP         \n",
      "     |       |   |   |    ___|___        \n",
      "     NP      |   |   |   |       NP     \n",
      "  ___|___    |   |   |   |    ___|___    \n",
      "Det      N   V  Det  N   P  Det      N  \n",
      " |       |   |   |   |   |   |       |   \n",
      "the     dog saw the cat  in the     park\n",
      "\n"
     ]
    }
   ],
   "source": [
    "parser = ChartParser(grammer)\n",
    " \n",
    "sentence = 'the dog saw the cat in the park'.split()\n",
    "\n",
    "for tree in parser.parse(sentence):\n",
    "    print(tree)\n",
    "    tree.pretty_print()"
   ]
  },
  {
   "cell_type": "code",
   "execution_count": null,
   "id": "05078427",
   "metadata": {},
   "outputs": [],
   "source": []
  }
 ],
 "metadata": {
  "kernelspec": {
   "display_name": "Python 3 (ipykernel)",
   "language": "python",
   "name": "python3"
  },
  "language_info": {
   "codemirror_mode": {
    "name": "ipython",
    "version": 3
   },
   "file_extension": ".py",
   "mimetype": "text/x-python",
   "name": "python",
   "nbconvert_exporter": "python",
   "pygments_lexer": "ipython3",
   "version": "3.12.4"
  }
 },
 "nbformat": 4,
 "nbformat_minor": 5
}
